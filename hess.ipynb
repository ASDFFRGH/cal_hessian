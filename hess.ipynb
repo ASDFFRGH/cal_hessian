{
 "cells": [
  {
   "cell_type": "code",
   "execution_count": 77,
   "id": "7a952c82",
   "metadata": {},
   "outputs": [],
   "source": [
    "import torch\n",
    "import torchvision\n",
    "from torch import nn\n",
    "import torch.optim as optim\n",
    "from model import MFNN1, MFNN2, MLP\n",
    "import utils \n",
    "from torch.optim.swa_utils import AveragedModel\n",
    "import numpy as np\n",
    "#import pandas as pd\n",
    "import sys\n",
    "import time\n",
    "import random\n",
    "from dataclasses import dataclass\n",
    "from sam import SAM\n",
    "from nsam import NSAM\n",
    "from pyhessian import hessian\n",
    "import matplotlib.pyplot as plt"
   ]
  },
  {
   "cell_type": "code",
   "execution_count": 78,
   "id": "5b7acb8d",
   "metadata": {},
   "outputs": [],
   "source": [
    "device = torch.device('cuda:7') if torch.cuda.is_available() else torch.device('cpu')\n",
    "use_cuda = torch.cuda.is_available()\n",
    "if use_cuda:\n",
    "    torch.cuda.empty_cache()\n",
    "    torch.cuda.set_device(7)"
   ]
  },
  {
   "cell_type": "code",
   "execution_count": 79,
   "id": "8abae6ff",
   "metadata": {},
   "outputs": [
    {
     "data": {
      "text/plain": [
       "configs(model='MFNN1', opt_type='SWA', scheduler=1, dataset='FashionMNIST', lr=0.1, bs=60, weight_decay=0.0, momentum=0.0, rho=10, epochs=100)"
      ]
     },
     "execution_count": 79,
     "metadata": {},
     "output_type": "execute_result"
    }
   ],
   "source": [
    "config = utils.configs(opt_type='SWA',\n",
    "                       dataset='FashionMNIST', \n",
    "                       model='MFNN1', \n",
    "                       scheduler=1, \n",
    "                       lr=0.1, bs=60, \n",
    "                       rho = 10, \n",
    "                       epochs = 100)\n",
    "\n",
    "root = utils.make_root(config)\n",
    "path = utils.get_path(root)\n",
    "\n",
    "config"
   ]
  },
  {
   "cell_type": "code",
   "execution_count": 80,
   "id": "7438f2ea",
   "metadata": {},
   "outputs": [],
   "source": [
    "loader_train, loader_test = utils.make_data_loader(config)"
   ]
  },
  {
   "cell_type": "code",
   "execution_count": null,
   "id": "b91597e7",
   "metadata": {},
   "outputs": [],
   "source": []
  },
  {
   "cell_type": "code",
   "execution_count": 81,
   "id": "3edbcc66",
   "metadata": {},
   "outputs": [],
   "source": [
    "def cal_hess():\n",
    "    hess_trace = 0.0\n",
    "    for X, t in loader_train:\n",
    "        #hess = hessian(model, loss_fn, data=(X, t), cuda=False)\n",
    "        hess_trace = hess_trace + np.mean(hessian(model, loss_fn, data=(X, t), cuda=True).trace()) \n",
    "    return hess_trace"
   ]
  },
  {
   "cell_type": "code",
   "execution_count": 82,
   "id": "c941472d",
   "metadata": {},
   "outputs": [],
   "source": [
    "def main(model, opt, loss_fn, scheduler, config):\n",
    "    rho = config.rho\n",
    "    swa_start = 50\n",
    "    hess_list = []\n",
    "    for epoch in range(config.epochs):\n",
    "        with open(path, 'a') as f:\n",
    "            f.write(f'EPOCH: {epoch}\\n')\n",
    "        print(f'EPOCH: {epoch}')\n",
    "        \n",
    "        start = time.time() \n",
    "        \n",
    "        #start train loop----------------------\n",
    "        train_loss = []\n",
    "        total_train = 0\n",
    "        correct_train = 0\n",
    "        \n",
    "        model.train()\n",
    "        for X, t in loader_train:\n",
    "            X, t = X.cuda(), t.cuda()\n",
    "            y = model(X)\n",
    "            opt.zero_grad() \n",
    "            opt_type = config.opt_type\n",
    "                          \n",
    "            if opt_type == 'NSAM' or opt_type == 'SAM':\n",
    "                with torch.no_grad():\n",
    "                    loss = loss_fn(y, t)\n",
    "                    opt.first_step(zero_grad=True)\n",
    "                loss_fn(model(X), t).backward()\n",
    "                opt.second_step(zero_grad=True)\n",
    "            elif opt_type == 'SGD':\n",
    "                loss = loss_fn(y, t)\n",
    "                loss.backward()\n",
    "                opt.step()\n",
    "            elif opt_type == 'SWA':\n",
    "                loss = loss_fn(y, t)\n",
    "                loss.backward()\n",
    "                opt.step()\n",
    "                if epoch > swa_start:\n",
    "                    averaged.update_parameters(model)\n",
    "        \n",
    "            pred = y.argmax(1)\n",
    "            train_loss.append(loss.tolist())\n",
    "            \n",
    "            total_train += t.shape[0]\n",
    "            correct_train += (pred==t).sum().item()\n",
    "          \n",
    "        scheduler.step()\n",
    "    \n",
    "        end  = time.time()\n",
    "        \n",
    "        log = f'train loss: {np.mean(train_loss):.3f}, accuracy: {correct_train/total_train:.3f}'\n",
    "        with open(path, 'a') as f:\n",
    "            f.write(log + f' train_time: {end - start:.5f}' + '\\n')\n",
    "        print(log)\n",
    "        #end train loop------------------------------------\n",
    "                \n",
    "        #start test loop-----------------------------------\n",
    "        test_loss = []\n",
    "        total_test= 0\n",
    "        correct_test = 0\n",
    "    \n",
    "        model.eval()\n",
    "        \n",
    "        hess_tr = cal_hess()\n",
    "        hess_list.append(hess_tr)\n",
    "        \n",
    "        for X, t in loader_test:\n",
    "            X, t = X.cuda(), t.cuda()\n",
    "            if opt_type == 'SWA':\n",
    "                y = averaged(X)\n",
    "            else:\n",
    "                y = model(X)\n",
    "            loss = loss_fn(y, t)\n",
    "            \n",
    "            pred = y.argmax(1)\n",
    "            test_loss.append(loss.tolist())\n",
    "            \n",
    "            total_test += t.shape[0]\n",
    "            correct_test += (pred==t).sum().item()\n",
    "    \n",
    "        log = f'test loss: {np.mean(test_loss):.3f}, accuracy: {correct_test/total_test:.3f}' + f\"hessian trace = {hess_tr}\"\n",
    "        with open(path, 'a') as f:\n",
    "            f.write(log + '\\n')\n",
    "        print(log)\n",
    "        print(f\"hessian trace = {hess_tr}\")\n",
    "        # end test loop-------------------------------------- \n",
    "        \n",
    "        print(f'time: {end - start:.5f}')    \n",
    "        \n",
    "    return hess_list"
   ]
  },
  {
   "cell_type": "code",
   "execution_count": null,
   "id": "e2fe90d7",
   "metadata": {},
   "outputs": [
    {
     "name": "stdout",
     "output_type": "stream",
     "text": [
      "Adjusting learning rate of group 0 to 1.0000e-01.\n",
      "EPOCH: 0\n",
      "Adjusting learning rate of group 0 to 1.0000e-01.\n",
      "train loss: 0.778, accuracy: 0.727\n",
      "test loss: 2.303, accuracy: 0.096hessian trace = 83829.55866890446\n",
      "hessian trace = 83829.55866890446\n",
      "time: 2.01699\n",
      "EPOCH: 1\n",
      "Adjusting learning rate of group 0 to 1.0000e-01.\n",
      "train loss: 0.474, accuracy: 0.831\n",
      "test loss: 2.303, accuracy: 0.096hessian trace = 69368.33824906459\n",
      "hessian trace = 69368.33824906459\n",
      "time: 2.08517\n",
      "EPOCH: 2\n",
      "Adjusting learning rate of group 0 to 1.0000e-01.\n",
      "train loss: 0.413, accuracy: 0.852\n",
      "test loss: 2.303, accuracy: 0.096hessian trace = 65313.37330257399\n",
      "hessian trace = 65313.37330257399\n",
      "time: 2.06920\n",
      "EPOCH: 3\n",
      "Adjusting learning rate of group 0 to 1.0000e-01.\n",
      "train loss: 0.377, accuracy: 0.865\n",
      "test loss: 2.303, accuracy: 0.096hessian trace = 68804.86043786445\n",
      "hessian trace = 68804.86043786445\n",
      "time: 2.00927\n",
      "EPOCH: 4\n",
      "Adjusting learning rate of group 0 to 1.0000e-01.\n",
      "train loss: 0.352, accuracy: 0.873\n",
      "test loss: 2.303, accuracy: 0.096hessian trace = 64252.64740630006\n",
      "hessian trace = 64252.64740630006\n",
      "time: 2.07468\n",
      "EPOCH: 5\n",
      "Adjusting learning rate of group 0 to 1.0000e-01.\n",
      "train loss: 0.335, accuracy: 0.878\n",
      "test loss: 2.303, accuracy: 0.096hessian trace = 70363.73231103858\n",
      "hessian trace = 70363.73231103858\n",
      "time: 1.98310\n",
      "EPOCH: 6\n",
      "Adjusting learning rate of group 0 to 1.0000e-01.\n",
      "train loss: 0.320, accuracy: 0.883\n",
      "test loss: 2.303, accuracy: 0.096hessian trace = 84614.16817502351\n",
      "hessian trace = 84614.16817502351\n",
      "time: 2.00312\n",
      "EPOCH: 7\n",
      "Adjusting learning rate of group 0 to 1.0000e-01.\n",
      "train loss: 0.307, accuracy: 0.887\n",
      "test loss: 2.303, accuracy: 0.096hessian trace = 77259.23431821523\n",
      "hessian trace = 77259.23431821523\n",
      "time: 2.04529\n",
      "EPOCH: 8\n",
      "Adjusting learning rate of group 0 to 1.0000e-01.\n",
      "train loss: 0.294, accuracy: 0.892\n",
      "test loss: 2.303, accuracy: 0.096hessian trace = 74207.41011105893\n",
      "hessian trace = 74207.41011105893\n",
      "time: 2.02766\n",
      "EPOCH: 9\n",
      "Adjusting learning rate of group 0 to 1.0000e-01.\n",
      "train loss: 0.285, accuracy: 0.896\n",
      "test loss: 2.303, accuracy: 0.096hessian trace = 78469.76253697071\n",
      "hessian trace = 78469.76253697071\n",
      "time: 2.05543\n",
      "EPOCH: 10\n",
      "Adjusting learning rate of group 0 to 1.0000e-01.\n",
      "train loss: 0.275, accuracy: 0.898\n",
      "test loss: 2.303, accuracy: 0.096hessian trace = 73384.96175714489\n",
      "hessian trace = 73384.96175714489\n",
      "time: 2.04061\n",
      "EPOCH: 11\n",
      "Adjusting learning rate of group 0 to 1.0000e-01.\n",
      "train loss: 0.267, accuracy: 0.902\n",
      "test loss: 2.303, accuracy: 0.096hessian trace = 79009.67330167392\n",
      "hessian trace = 79009.67330167392\n",
      "time: 2.02355\n",
      "EPOCH: 12\n",
      "Adjusting learning rate of group 0 to 1.0000e-01.\n",
      "train loss: 0.260, accuracy: 0.904\n",
      "test loss: 2.303, accuracy: 0.096hessian trace = 79259.1195356393\n",
      "hessian trace = 79259.1195356393\n",
      "time: 2.05124\n",
      "EPOCH: 13\n",
      "Adjusting learning rate of group 0 to 1.0000e-01.\n",
      "train loss: 0.252, accuracy: 0.907\n"
     ]
    }
   ],
   "source": [
    "model = MFNN1().cuda()\n",
    "averaged = AveragedModel(model)\n",
    "\n",
    "base_optimizer = optim.SGD\n",
    "\n",
    "if config.opt_type == 'SGD' or 'SWA':\n",
    "    opt = optim.SGD(model.parameters(), lr = config.lr)\n",
    "elif config.opt_type == 'SAM':\n",
    "    opt = SAM(model.parameters(), base_optimizer, lr = config.lr, rho = config.rho, device=device)\n",
    "elif config.opt_type == 'NSAM':\n",
    "    opt = NSAM(model.parameters(), base_optimizer, lr = config.lr, rho = config.rho, device=device)\n",
    "\n",
    "loss_fn = nn.CrossEntropyLoss()\n",
    "scheduler = optim.lr_scheduler.LambdaLR(opt, lr_lambda = utils.func, verbose=True)\n",
    "hess_list = main(model, opt, loss_fn, scheduler, config)"
   ]
  },
  {
   "cell_type": "code",
   "execution_count": 41,
   "id": "2f5cd6b9",
   "metadata": {},
   "outputs": [
    {
     "data": {
      "text/plain": [
       "<function matplotlib.pyplot.show(close=None, block=None)>"
      ]
     },
     "execution_count": 41,
     "metadata": {},
     "output_type": "execute_result"
    },
    {
     "data": {
      "image/png": "[encoded data removed]",
      "text/plain": [
       "<Figure size 432x288 with 1 Axes>"
      ]
     },
     "metadata": {
      "needs_background": "light"
     },
     "output_type": "display_data"
    }
   ],
   "source": [
    "x = np.arange(0,100,1)\n",
    "y = hess_list\n",
    "plt.plot(x,y)\n",
    "plt.show"
   ]
  },
  {
   "cell_type": "code",
   "execution_count": 23,
   "id": "78a0f0fc",
   "metadata": {},
   "outputs": [
    {
     "name": "stdout",
     "output_type": "stream",
     "text": [
      "torch.Size([60000, 28, 28])\n"
     ]
    }
   ],
   "source": []
  },
  {
   "cell_type": "code",
   "execution_count": 12,
   "id": "f8dc538e",
   "metadata": {},
   "outputs": [
    {
     "name": "stderr",
     "output_type": "stream",
     "text": [
      "/Users/maedashugo/opt/anaconda3/envs/jax/lib/python3.9/site-packages/torch/autograd/__init__.py:173: UserWarning: Using backward() with create_graph=True will create a reference cycle between the parameter and its gradient which can cause a memory leak. We recommend using autograd.grad when creating the graph to avoid this. If you have to use this function, make sure to reset the .grad fields of your parameters to None after use to break the cycle and avoid the leak. (Triggered internally at  /Users/distiller/project/conda/conda-bld/pytorch_1646756029501/work/torch/csrc/autograd/engine.cpp:985.)\n",
      "  Variable._execution_engine.run_backward(  # Calls into the C++ engine to run the backward pass\n"
     ]
    },
    {
     "name": "stdout",
     "output_type": "stream",
     "text": [
      "#######################################################\n",
      "-8.463426113128662\n",
      "#######################################################\n",
      "-48.278451442718506\n",
      "#######################################################\n",
      "-42.88778066635132\n",
      "#######################################################\n",
      "-24.77126455307007\n",
      "#######################################################\n",
      "-16.804104197621346\n",
      "#######################################################\n",
      "-45.72639404594898\n",
      "#######################################################\n",
      "-15.555562365651127\n",
      "#######################################################\n",
      "-78.39512859642505\n",
      "#######################################################\n",
      "-73.99734138721021\n",
      "#######################################################\n",
      "-51.05204796069654\n"
     ]
    }
   ],
   "source": [
    "model = MFNN1()\n",
    "loss_fn = nn.CrossEntropyLoss()\n",
    "hess_train = 0\n",
    "\n",
    "for X, t in hess_loader:\n",
    "    #print(len(hess_loader))\n",
    "    hess = hessian(model, loss_fn, data=(X, t), cuda=False)\n",
    "    print('#######################################################')\n",
    "    hess_train = hess_train + np.mean(hessian(model, loss_fn, data=(X, t), cuda=False).trace())\n",
    "    print(hess_train)"
   ]
  }
 ],
 "metadata": {
  "kernelspec": {
   "display_name": "Python 3",
   "language": "python",
   "name": "python3"
  },
  "language_info": {
   "codemirror_mode": {
    "name": "ipython",
    "version": 3
   },
   "file_extension": ".py",
   "mimetype": "text/x-python",
   "name": "python",
   "nbconvert_exporter": "python",
   "pygments_lexer": "ipython3",
   "version": "3.8.8"
  }
 },
 "nbformat": 4,
 "nbformat_minor": 5
}
