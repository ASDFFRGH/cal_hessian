{
 "cells": [
  {
   "cell_type": "code",
   "execution_count": null,
   "id": "20a5118e",
   "metadata": {},
   "outputs": [],
   "source": [
    "#pytorchによる学習"
   ]
  },
  {
   "cell_type": "code",
   "execution_count": 2,
   "id": "07332b1e",
   "metadata": {},
   "outputs": [
    {
     "name": "stderr",
     "output_type": "stream",
     "text": [
      "/Users/maedashugo/opt/anaconda3/envs/jax/lib/python3.9/site-packages/tqdm/auto.py:22: TqdmWarning: IProgress not found. Please update jupyter and ipywidgets. See https://ipywidgets.readthedocs.io/en/stable/user_install.html\n",
      "  from .autonotebook import tqdm as notebook_tqdm\n"
     ]
    }
   ],
   "source": [
    "import torch\n",
    "import torchvision\n",
    "from torchvision import transforms\n",
    "from torch.utils.data import TensorDataset, DataLoader \n",
    "from torch import nn\n",
    "import torch.optim as optim\n",
    "from torchvision.datasets import MNIST, CIFAR10, FashionMNIST\n",
    "from torchvision.datasets import CIFAR10\n",
    "from model import MFNN1, MFNN2, MLP, FCNN\n",
    "import utils \n",
    "import numpy as np\n",
    "#import pandas as pd\n",
    "import sys\n",
    "import time\n",
    "from tqdm import tqdm\n",
    "import os\n",
    "\n",
    "from dataclasses import dataclass\n",
    "\n",
    "from sam import SAM"
   ]
  },
  {
   "cell_type": "code",
   "execution_count": 4,
   "id": "8edb066a",
   "metadata": {},
   "outputs": [],
   "source": [
    "device = torch.device('cuda:0') if torch.cuda.is_available() else torch.device('cpu')"
   ]
  },
  {
   "cell_type": "code",
   "execution_count": null,
   "id": "f2f5f3d7",
   "metadata": {},
   "outputs": [],
   "source": [
    "config = utils.config"
   ]
  },
  {
   "cell_type": "code",
   "execution_count": 5,
   "id": "f040d763",
   "metadata": {},
   "outputs": [
    {
     "ename": "NameError",
     "evalue": "name 'config' is not defined",
     "output_type": "error",
     "traceback": [
      "\u001b[0;31m---------------------------------------------------------------------------\u001b[0m",
      "\u001b[0;31mNameError\u001b[0m                                 Traceback (most recent call last)",
      "Input \u001b[0;32mIn [5]\u001b[0m, in \u001b[0;36m<cell line: 1>\u001b[0;34m()\u001b[0m\n\u001b[0;32m----> 1\u001b[0m \u001b[38;5;28;01mif\u001b[39;00m(\u001b[43mconfig\u001b[49m\u001b[38;5;241m.\u001b[39mdataset \u001b[38;5;241m==\u001b[39m \u001b[38;5;124m'\u001b[39m\u001b[38;5;124mmnist\u001b[39m\u001b[38;5;124m'\u001b[39m):\n\u001b[1;32m      2\u001b[0m     train \u001b[38;5;241m=\u001b[39m MNIST(\u001b[38;5;124m'\u001b[39m\u001b[38;5;124mMNIST\u001b[39m\u001b[38;5;124m'\u001b[39m, \n\u001b[1;32m      3\u001b[0m                   train \u001b[38;5;241m=\u001b[39m \u001b[38;5;28;01mTrue\u001b[39;00m, \n\u001b[1;32m      4\u001b[0m                   download \u001b[38;5;241m=\u001b[39m \u001b[38;5;28;01mTrue\u001b[39;00m, \n\u001b[1;32m      5\u001b[0m                   transform \u001b[38;5;241m=\u001b[39m transforms\u001b[38;5;241m.\u001b[39mToTensor()\n\u001b[1;32m      6\u001b[0m     )\n\u001b[1;32m      7\u001b[0m     test \u001b[38;5;241m=\u001b[39m MNIST(\u001b[38;5;124m'\u001b[39m\u001b[38;5;124mMNIST\u001b[39m\u001b[38;5;124m'\u001b[39m, \n\u001b[1;32m      8\u001b[0m                  train \u001b[38;5;241m=\u001b[39m \u001b[38;5;28;01mFalse\u001b[39;00m, \n\u001b[1;32m      9\u001b[0m                  download \u001b[38;5;241m=\u001b[39m \u001b[38;5;28;01mTrue\u001b[39;00m, \n\u001b[1;32m     10\u001b[0m                  transform \u001b[38;5;241m=\u001b[39m transforms\u001b[38;5;241m.\u001b[39mToTensor()\n\u001b[1;32m     11\u001b[0m                 )\n",
      "\u001b[0;31mNameError\u001b[0m: name 'config' is not defined"
     ]
    }
   ],
   "source": [
    "if(config.dataset == 'mnist'):\n",
    "    train = MNIST('MNIST', \n",
    "                  train = True, \n",
    "                  download = True, \n",
    "                  transform = transforms.ToTensor()\n",
    "    )\n",
    "    test = MNIST('MNIST', \n",
    "                 train = False, \n",
    "                 download = True, \n",
    "                 transform = transforms.ToTensor()\n",
    "                )\n",
    "elif(config.dataset == 'cifar10'):\n",
    "    train = CIFAR10('CIFAR10', \n",
    "                    train = True, \n",
    "                    download = True, \n",
    "                    transform = transform.ToTensor()\n",
    "                   )\n",
    "    test = CIFAR10('CIFAR10', \n",
    "                   train = False, \n",
    "                   download = True, \n",
    "                   transform = transform.Totensor()\n",
    "                  )"
   ]
  },
  {
   "cell_type": "code",
   "execution_count": 6,
   "id": "0cb4b8a5",
   "metadata": {},
   "outputs": [
    {
     "name": "stdout",
     "output_type": "stream",
     "text": [
      "Dataset FashionMNIST\n",
      "    Number of datapoints: 60000\n",
      "    Root location: FashionMNIST\n",
      "    Split: Train\n",
      "    StandardTransform\n",
      "Transform: ToTensor()\n",
      "Dataset FashionMNIST\n",
      "    Number of datapoints: 10000\n",
      "    Root location: FashionMNIST\n",
      "    Split: Test\n",
      "    StandardTransform\n",
      "Transform: ToTensor()\n"
     ]
    }
   ],
   "source": [
    "train = FashionMNIST('FashionMNIST', \n",
    "                  train = True, \n",
    "                  download = True, \n",
    "                  transform = transforms.ToTensor()\n",
    "                  )\n",
    "test = FashionMNIST('FashionMNIST',\n",
    "                   train = False,\n",
    "                   download = True,\n",
    "                   transform = transforms.ToTensor()\n",
    "                   )\n",
    "\n",
    "print(train)\n",
    "print(test)"
   ]
  },
  {
   "cell_type": "code",
   "execution_count": 7,
   "id": "5c852f83",
   "metadata": {},
   "outputs": [
    {
     "name": "stdout",
     "output_type": "stream",
     "text": [
      "torch.Size([10000, 28, 28])\n"
     ]
    }
   ],
   "source": [
    "X_train = train.data.type(torch.float32)\n",
    "t_train = train.targets\n",
    "\n",
    "X_test = test.data.type(torch.float32)\n",
    "t_test = test.targets\n",
    "\n",
    "print(X_test.shape)"
   ]
  },
  {
   "cell_type": "code",
   "execution_count": 41,
   "id": "59f95ec6",
   "metadata": {},
   "outputs": [],
   "source": [
    "ds_train = TensorDataset(X_train, t_train) \n",
    "ds_test = TensorDataset(X_test, t_test)"
   ]
  },
  {
   "cell_type": "code",
   "execution_count": 9,
   "id": "056d6ad5",
   "metadata": {},
   "outputs": [],
   "source": [
    "def param_xavier_init(model):\n",
    "    for name, param in model.named_parameters():\n",
    "        if 'weight' in name:\n",
    "            nn.init.xavier_normal_(param)\n",
    "        if 'bias' in name:\n",
    "            nn.init.constant_(param, val=0)"
   ]
  },
  {
   "cell_type": "code",
   "execution_count": 11,
   "id": "64ecdff1",
   "metadata": {},
   "outputs": [],
   "source": [
    "\"\"\"\n",
    "def update_param(model, loss, lr):\n",
    "    with torch.no_grad():\n",
    "        for params in model.parameters():\n",
    "            params.data -= lr * params.grad.data\n",
    "\"\"\""
   ]
  },
  {
   "cell_type": "code",
   "execution_count": 107,
   "id": "88ab9a4b",
   "metadata": {},
   "outputs": [],
   "source": [
    "config = configs('FINITE', 'FashionMNIST', 0.1, 60000, rho = 10, epochs = 100)\n",
    "root = make_root(config)\n",
    "path = get_path(root)\n",
    "\n",
    "loader_train = DataLoader(ds_train, batch_size = config.bs, shuffle = True)\n",
    "loader_test = DataLoader(ds_test, batch_size = config.bs, shuffle = True)\n",
    "\n",
    "\n",
    "def main(model, opt, loss_fn, scheduler, config):\n",
    "    with open(path, 'a') as f:\n",
    "        f.write(f'{config}')\n",
    "        f.write('\\n')\n",
    "    print(config.noise_type)\n",
    "    rho = config.rho\n",
    "    for epoch in range(config.epochs):\n",
    "        with open(path, 'a') as f:\n",
    "            f.write(f'EPOCH: {epoch}\\n')\n",
    "        print(f'EPOCH: {epoch}')\n",
    "        \n",
    "        start = time.time() \n",
    "        \n",
    "        #start train loop----------------------\n",
    "        train_loss = []\n",
    "        total_train = 0\n",
    "        correct_train = 0\n",
    "        \n",
    "        model.train()\n",
    "        for X, t in tqdm(loader_train):\n",
    "            X, t = X.to(device), t.to(device)\n",
    "            y = model(X)\n",
    "            noise_type = config.noise_type\n",
    "            if noise_type != 'NONE' and noise_type != 'SAM':\n",
    "                with torch.no_grad():\n",
    "                    param_copy = []\n",
    "                    for params in model.parameters():\n",
    "                        param_copy.append(params.data)\n",
    "                        if noise_type == 'GAUSS':\n",
    "                            noise = torch.normal(0, 1, params.data.shape)\n",
    "                        elif noise_type == 'FINITE':\n",
    "                            noise = torch.normal(0, 1, params.data.shape)\n",
    "                            norm = torch.norm(noise) \n",
    "                            noise = noise/norm\n",
    "                        params.data = rho * noise + params.data\n",
    "            y_ = model(X)\n",
    "            loss = loss_fn(y_, t)\n",
    "            opt.zero_grad() \n",
    "            loss.backward()\n",
    "            \n",
    "            #modelの復元\n",
    "            if noise_type != 'NONE' and noise_type != 'SAM':\n",
    "                with torch.no_grad():\n",
    "                        i=0\n",
    "                        for param in model.parameters():\n",
    "                            param.data = param_copy[i]\n",
    "                            i=i+1\n",
    "            \n",
    "            if noise_type == 'SAM':\n",
    "                opt.first_step(zero_grad=True)\n",
    "                loss_fn(model(X), t).backward()\n",
    "                opt.second_step(zero_grad=True)\n",
    "            else:\n",
    "                opt.step()\n",
    "            \n",
    "            \n",
    "        \n",
    "            pred = y.argmax(1)\n",
    "            train_loss.append(loss.tolist())\n",
    "            \n",
    "            total_train += t.shape[0]\n",
    "            correct_train += (pred==t).sum().item()\n",
    "        scheduler.step()\n",
    "    \n",
    "        end  = time.time()\n",
    "        \n",
    "        log = f'train loss: {np.mean(train_loss):.3f}, accuracy: {correct_train/total_train:.3f}'\n",
    "        with open(path, 'a') as f:\n",
    "            f.write(log + f' train_time: {end - start:.5f}' + '\\n')\n",
    "        print(log)\n",
    "        #end train loop------------------------------------\n",
    "        \n",
    "                \n",
    "        #start test loop-----------------------------------\n",
    "        test_loss = []\n",
    "        total_test= 0\n",
    "        correct_test = 0\n",
    "    \n",
    "        model.eval()\n",
    "        for X, t in loader_test:\n",
    "            X, t = X.to(device), t.to(device)\n",
    "            y = model(X)\n",
    "            loss = loss_fn(y, t)\n",
    "            \n",
    "            pred = y.argmax(1)\n",
    "            test_loss.append(loss.tolist())\n",
    "            \n",
    "            total_test += t.shape[0]\n",
    "            correct_test += (pred==t).sum().item()\n",
    "    \n",
    "        log = f'test loss: {np.mean(test_loss):.3f}, accuracy: {correct_test/total_test:.3f}'\n",
    "        with open(path, 'a') as f:\n",
    "            f.write(log + '\\n')\n",
    "        print(log)\n",
    "        # end test loop-------------------------------------- \n",
    "        \n",
    "        print(f'time: {end - start:.5f}')           "
   ]
  },
  {
   "cell_type": "code",
   "execution_count": 108,
   "id": "72c06466",
   "metadata": {},
   "outputs": [
    {
     "name": "stdout",
     "output_type": "stream",
     "text": [
      "Adjusting learning rate of group 0 to 1.0000e-01.\n",
      "FINITE\n",
      "EPOCH: 0\n"
     ]
    },
    {
     "name": "stderr",
     "output_type": "stream",
     "text": [
      "100%|█████████████████████████████████████████████| 1/1 [00:13<00:00, 13.47s/it]\n"
     ]
    },
    {
     "name": "stdout",
     "output_type": "stream",
     "text": [
      "Adjusting learning rate of group 0 to 1.0000e-01.\n",
      "train loss: 2.346, accuracy: 0.116\n",
      "test loss: 2.290, accuracy: 0.126\n",
      "time: 13.47156\n",
      "EPOCH: 1\n"
     ]
    },
    {
     "name": "stderr",
     "output_type": "stream",
     "text": [
      "100%|█████████████████████████████████████████████| 1/1 [00:13<00:00, 13.21s/it]\n"
     ]
    },
    {
     "name": "stdout",
     "output_type": "stream",
     "text": [
      "Adjusting learning rate of group 0 to 1.0000e-01.\n",
      "train loss: 2.300, accuracy: 0.126\n",
      "test loss: 2.282, accuracy: 0.185\n",
      "time: 13.21542\n",
      "EPOCH: 2\n"
     ]
    },
    {
     "name": "stderr",
     "output_type": "stream",
     "text": [
      "100%|█████████████████████████████████████████████| 1/1 [00:13<00:00, 13.15s/it]\n"
     ]
    },
    {
     "name": "stdout",
     "output_type": "stream",
     "text": [
      "Adjusting learning rate of group 0 to 1.0000e-01.\n",
      "train loss: 2.299, accuracy: 0.187\n",
      "test loss: 2.271, accuracy: 0.204\n",
      "time: 13.14656\n",
      "EPOCH: 3\n"
     ]
    },
    {
     "name": "stderr",
     "output_type": "stream",
     "text": [
      "100%|█████████████████████████████████████████████| 1/1 [00:13<00:00, 13.24s/it]\n"
     ]
    },
    {
     "name": "stdout",
     "output_type": "stream",
     "text": [
      "Adjusting learning rate of group 0 to 1.0000e-01.\n",
      "train loss: 2.281, accuracy: 0.206\n",
      "test loss: 2.259, accuracy: 0.304\n",
      "time: 13.23839\n",
      "EPOCH: 4\n"
     ]
    },
    {
     "name": "stderr",
     "output_type": "stream",
     "text": [
      "100%|█████████████████████████████████████████████| 1/1 [00:13<00:00, 13.20s/it]\n"
     ]
    },
    {
     "name": "stdout",
     "output_type": "stream",
     "text": [
      "Adjusting learning rate of group 0 to 1.0000e-01.\n",
      "train loss: 2.313, accuracy: 0.303\n",
      "test loss: 2.245, accuracy: 0.334\n",
      "time: 13.19938\n",
      "EPOCH: 5\n"
     ]
    },
    {
     "name": "stderr",
     "output_type": "stream",
     "text": [
      "100%|█████████████████████████████████████████████| 1/1 [00:13<00:00, 13.17s/it]\n"
     ]
    },
    {
     "name": "stdout",
     "output_type": "stream",
     "text": [
      "Adjusting learning rate of group 0 to 1.0000e-01.\n",
      "train loss: 2.282, accuracy: 0.332\n",
      "test loss: 2.232, accuracy: 0.358\n",
      "time: 13.16772\n",
      "EPOCH: 6\n"
     ]
    },
    {
     "name": "stderr",
     "output_type": "stream",
     "text": [
      "100%|█████████████████████████████████████████████| 1/1 [00:13<00:00, 13.17s/it]\n"
     ]
    },
    {
     "name": "stdout",
     "output_type": "stream",
     "text": [
      "Adjusting learning rate of group 0 to 1.0000e-01.\n",
      "train loss: 2.267, accuracy: 0.360\n",
      "test loss: 2.219, accuracy: 0.377\n",
      "time: 13.17573\n",
      "EPOCH: 7\n"
     ]
    },
    {
     "name": "stderr",
     "output_type": "stream",
     "text": [
      "100%|█████████████████████████████████████████████| 1/1 [00:13<00:00, 13.19s/it]\n"
     ]
    },
    {
     "name": "stdout",
     "output_type": "stream",
     "text": [
      "Adjusting learning rate of group 0 to 1.0000e-01.\n",
      "train loss: 2.280, accuracy: 0.380\n",
      "test loss: 2.211, accuracy: 0.345\n",
      "time: 13.19063\n",
      "EPOCH: 8\n"
     ]
    },
    {
     "name": "stderr",
     "output_type": "stream",
     "text": [
      "100%|█████████████████████████████████████████████| 1/1 [00:13<00:00, 13.17s/it]\n"
     ]
    },
    {
     "name": "stdout",
     "output_type": "stream",
     "text": [
      "Adjusting learning rate of group 0 to 1.0000e-01.\n",
      "train loss: 2.309, accuracy: 0.348\n",
      "test loss: 2.204, accuracy: 0.328\n",
      "time: 13.17381\n",
      "EPOCH: 9\n"
     ]
    },
    {
     "name": "stderr",
     "output_type": "stream",
     "text": [
      "100%|█████████████████████████████████████████████| 1/1 [00:13<00:00, 13.14s/it]\n"
     ]
    },
    {
     "name": "stdout",
     "output_type": "stream",
     "text": [
      "Adjusting learning rate of group 0 to 1.0000e-01.\n",
      "train loss: 2.236, accuracy: 0.332\n",
      "test loss: 2.190, accuracy: 0.383\n",
      "time: 13.14595\n",
      "EPOCH: 10\n"
     ]
    },
    {
     "name": "stderr",
     "output_type": "stream",
     "text": [
      "100%|█████████████████████████████████████████████| 1/1 [00:13<00:00, 13.16s/it]\n"
     ]
    },
    {
     "name": "stdout",
     "output_type": "stream",
     "text": [
      "Adjusting learning rate of group 0 to 1.0000e-01.\n",
      "train loss: 2.245, accuracy: 0.384\n",
      "test loss: 2.179, accuracy: 0.346\n",
      "time: 13.16120\n",
      "EPOCH: 11\n"
     ]
    },
    {
     "name": "stderr",
     "output_type": "stream",
     "text": [
      "100%|█████████████████████████████████████████████| 1/1 [00:13<00:00, 13.18s/it]\n"
     ]
    },
    {
     "name": "stdout",
     "output_type": "stream",
     "text": [
      "Adjusting learning rate of group 0 to 1.0000e-01.\n",
      "train loss: 2.295, accuracy: 0.348\n",
      "test loss: 2.166, accuracy: 0.320\n",
      "time: 13.18412\n",
      "EPOCH: 12\n"
     ]
    },
    {
     "name": "stderr",
     "output_type": "stream",
     "text": [
      "100%|█████████████████████████████████████████████| 1/1 [00:13<00:00, 13.17s/it]\n"
     ]
    },
    {
     "name": "stdout",
     "output_type": "stream",
     "text": [
      "Adjusting learning rate of group 0 to 1.0000e-01.\n",
      "train loss: 2.266, accuracy: 0.322\n",
      "test loss: 2.153, accuracy: 0.489\n",
      "time: 13.17560\n",
      "EPOCH: 13\n"
     ]
    },
    {
     "name": "stderr",
     "output_type": "stream",
     "text": [
      "100%|█████████████████████████████████████████████| 1/1 [00:13<00:00, 13.16s/it]\n"
     ]
    },
    {
     "name": "stdout",
     "output_type": "stream",
     "text": [
      "Adjusting learning rate of group 0 to 1.0000e-01.\n",
      "train loss: 2.232, accuracy: 0.490\n",
      "test loss: 2.136, accuracy: 0.490\n",
      "time: 13.15648\n",
      "EPOCH: 14\n"
     ]
    },
    {
     "name": "stderr",
     "output_type": "stream",
     "text": [
      "100%|█████████████████████████████████████████████| 1/1 [00:13<00:00, 13.18s/it]\n"
     ]
    },
    {
     "name": "stdout",
     "output_type": "stream",
     "text": [
      "Adjusting learning rate of group 0 to 1.0000e-01.\n",
      "train loss: 2.242, accuracy: 0.494\n",
      "test loss: 2.127, accuracy: 0.520\n",
      "time: 13.18339\n",
      "EPOCH: 15\n"
     ]
    },
    {
     "name": "stderr",
     "output_type": "stream",
     "text": [
      "100%|█████████████████████████████████████████████| 1/1 [00:13<00:00, 13.18s/it]\n"
     ]
    },
    {
     "name": "stdout",
     "output_type": "stream",
     "text": [
      "Adjusting learning rate of group 0 to 1.0000e-01.\n",
      "train loss: 2.184, accuracy: 0.527\n",
      "test loss: 2.108, accuracy: 0.445\n",
      "time: 13.17791\n",
      "EPOCH: 16\n"
     ]
    },
    {
     "name": "stderr",
     "output_type": "stream",
     "text": [
      "100%|█████████████████████████████████████████████| 1/1 [00:13<00:00, 13.15s/it]\n"
     ]
    },
    {
     "name": "stdout",
     "output_type": "stream",
     "text": [
      "Adjusting learning rate of group 0 to 1.0000e-01.\n",
      "train loss: 2.172, accuracy: 0.448\n",
      "test loss: 2.089, accuracy: 0.422\n",
      "time: 13.15418\n",
      "EPOCH: 17\n"
     ]
    },
    {
     "name": "stderr",
     "output_type": "stream",
     "text": [
      "100%|█████████████████████████████████████████████| 1/1 [00:13<00:00, 13.14s/it]\n"
     ]
    },
    {
     "name": "stdout",
     "output_type": "stream",
     "text": [
      "Adjusting learning rate of group 0 to 1.0000e-01.\n",
      "train loss: 2.150, accuracy: 0.419\n",
      "test loss: 2.069, accuracy: 0.431\n",
      "time: 13.14321\n",
      "EPOCH: 18\n"
     ]
    },
    {
     "name": "stderr",
     "output_type": "stream",
     "text": [
      "100%|█████████████████████████████████████████████| 1/1 [00:13<00:00, 13.15s/it]\n"
     ]
    },
    {
     "name": "stdout",
     "output_type": "stream",
     "text": [
      "Adjusting learning rate of group 0 to 1.0000e-01.\n",
      "train loss: 2.140, accuracy: 0.435\n",
      "test loss: 2.047, accuracy: 0.485\n",
      "time: 13.14856\n",
      "EPOCH: 19\n"
     ]
    },
    {
     "name": "stderr",
     "output_type": "stream",
     "text": [
      "100%|█████████████████████████████████████████████| 1/1 [00:13<00:00, 13.17s/it]\n"
     ]
    },
    {
     "name": "stdout",
     "output_type": "stream",
     "text": [
      "Adjusting learning rate of group 0 to 1.0000e-01.\n",
      "train loss: 2.146, accuracy: 0.489\n",
      "test loss: 2.022, accuracy: 0.455\n",
      "time: 13.17025\n",
      "EPOCH: 20\n"
     ]
    },
    {
     "name": "stderr",
     "output_type": "stream",
     "text": [
      "100%|█████████████████████████████████████████████| 1/1 [00:13<00:00, 13.18s/it]\n"
     ]
    },
    {
     "name": "stdout",
     "output_type": "stream",
     "text": [
      "Adjusting learning rate of group 0 to 1.0000e-01.\n",
      "train loss: 2.090, accuracy: 0.459\n",
      "test loss: 2.003, accuracy: 0.457\n",
      "time: 13.17928\n",
      "EPOCH: 21\n"
     ]
    },
    {
     "name": "stderr",
     "output_type": "stream",
     "text": [
      "100%|█████████████████████████████████████████████| 1/1 [00:13<00:00, 13.19s/it]\n"
     ]
    },
    {
     "name": "stdout",
     "output_type": "stream",
     "text": [
      "Adjusting learning rate of group 0 to 1.0000e-01.\n",
      "train loss: 2.148, accuracy: 0.464\n",
      "test loss: 1.999, accuracy: 0.490\n",
      "time: 13.18866\n",
      "EPOCH: 22\n"
     ]
    },
    {
     "name": "stderr",
     "output_type": "stream",
     "text": [
      "100%|█████████████████████████████████████████████| 1/1 [00:13<00:00, 13.21s/it]\n"
     ]
    },
    {
     "name": "stdout",
     "output_type": "stream",
     "text": [
      "Adjusting learning rate of group 0 to 1.0000e-01.\n",
      "train loss: 2.054, accuracy: 0.496\n",
      "test loss: 1.966, accuracy: 0.501\n",
      "time: 13.21305\n",
      "EPOCH: 23\n"
     ]
    },
    {
     "name": "stderr",
     "output_type": "stream",
     "text": [
      "100%|█████████████████████████████████████████████| 1/1 [00:13<00:00, 13.17s/it]\n"
     ]
    },
    {
     "name": "stdout",
     "output_type": "stream",
     "text": [
      "Adjusting learning rate of group 0 to 1.0000e-01.\n",
      "train loss: 2.037, accuracy: 0.503\n",
      "test loss: 1.934, accuracy: 0.461\n",
      "time: 13.16609\n",
      "EPOCH: 24\n"
     ]
    },
    {
     "name": "stderr",
     "output_type": "stream",
     "text": [
      "100%|█████████████████████████████████████████████| 1/1 [00:13<00:00, 13.15s/it]\n"
     ]
    },
    {
     "name": "stdout",
     "output_type": "stream",
     "text": [
      "Adjusting learning rate of group 0 to 1.0000e-01.\n",
      "train loss: 2.013, accuracy: 0.463\n",
      "test loss: 1.906, accuracy: 0.553\n",
      "time: 13.14774\n",
      "EPOCH: 25\n"
     ]
    },
    {
     "name": "stderr",
     "output_type": "stream",
     "text": [
      "100%|█████████████████████████████████████████████| 1/1 [00:13<00:00, 13.23s/it]\n"
     ]
    },
    {
     "name": "stdout",
     "output_type": "stream",
     "text": [
      "Adjusting learning rate of group 0 to 1.0000e-01.\n",
      "train loss: 2.003, accuracy: 0.560\n",
      "test loss: 1.872, accuracy: 0.567\n",
      "time: 13.22804\n",
      "EPOCH: 26\n"
     ]
    },
    {
     "name": "stderr",
     "output_type": "stream",
     "text": [
      "100%|█████████████████████████████████████████████| 1/1 [00:13<00:00, 13.20s/it]\n"
     ]
    },
    {
     "name": "stdout",
     "output_type": "stream",
     "text": [
      "Adjusting learning rate of group 0 to 1.0000e-01.\n",
      "train loss: 2.036, accuracy: 0.574\n",
      "test loss: 1.853, accuracy: 0.490\n",
      "time: 13.20231\n",
      "EPOCH: 27\n"
     ]
    },
    {
     "name": "stderr",
     "output_type": "stream",
     "text": [
      "100%|█████████████████████████████████████████████| 1/1 [00:13<00:00, 13.25s/it]\n"
     ]
    },
    {
     "name": "stdout",
     "output_type": "stream",
     "text": [
      "Adjusting learning rate of group 0 to 1.0000e-01.\n",
      "train loss: 1.981, accuracy: 0.500\n",
      "test loss: 1.819, accuracy: 0.454\n",
      "time: 13.24983\n",
      "EPOCH: 28\n"
     ]
    },
    {
     "name": "stderr",
     "output_type": "stream",
     "text": [
      "100%|█████████████████████████████████████████████| 1/1 [00:13<00:00, 13.20s/it]\n"
     ]
    },
    {
     "name": "stdout",
     "output_type": "stream",
     "text": [
      "Adjusting learning rate of group 0 to 1.0000e-01.\n",
      "train loss: 1.867, accuracy: 0.453\n",
      "test loss: 1.776, accuracy: 0.465\n",
      "time: 13.19668\n",
      "EPOCH: 29\n"
     ]
    },
    {
     "name": "stderr",
     "output_type": "stream",
     "text": [
      "100%|█████████████████████████████████████████████| 1/1 [00:13<00:00, 13.18s/it]\n"
     ]
    },
    {
     "name": "stdout",
     "output_type": "stream",
     "text": [
      "Adjusting learning rate of group 0 to 1.0000e-01.\n",
      "train loss: 1.855, accuracy: 0.465\n",
      "test loss: 1.739, accuracy: 0.422\n",
      "time: 13.18572\n",
      "EPOCH: 30\n"
     ]
    },
    {
     "name": "stderr",
     "output_type": "stream",
     "text": [
      "100%|█████████████████████████████████████████████| 1/1 [00:13<00:00, 13.18s/it]\n"
     ]
    },
    {
     "name": "stdout",
     "output_type": "stream",
     "text": [
      "Adjusting learning rate of group 0 to 1.0000e-01.\n",
      "train loss: 1.869, accuracy: 0.422\n",
      "test loss: 1.700, accuracy: 0.445\n",
      "time: 13.18406\n",
      "EPOCH: 31\n"
     ]
    },
    {
     "name": "stderr",
     "output_type": "stream",
     "text": [
      "100%|█████████████████████████████████████████████| 1/1 [00:13<00:00, 13.15s/it]\n"
     ]
    },
    {
     "name": "stdout",
     "output_type": "stream",
     "text": [
      "Adjusting learning rate of group 0 to 1.0000e-01.\n",
      "train loss: 1.901, accuracy: 0.449\n",
      "test loss: 1.687, accuracy: 0.371\n",
      "time: 13.14988\n",
      "EPOCH: 32\n"
     ]
    },
    {
     "name": "stderr",
     "output_type": "stream",
     "text": [
      "100%|█████████████████████████████████████████████| 1/1 [00:13<00:00, 13.30s/it]\n"
     ]
    },
    {
     "name": "stdout",
     "output_type": "stream",
     "text": [
      "Adjusting learning rate of group 0 to 1.0000e-01.\n",
      "train loss: 1.825, accuracy: 0.369\n",
      "test loss: 1.649, accuracy: 0.382\n",
      "time: 13.29801\n",
      "EPOCH: 33\n"
     ]
    },
    {
     "name": "stderr",
     "output_type": "stream",
     "text": [
      "100%|█████████████████████████████████████████████| 1/1 [00:13<00:00, 13.36s/it]\n"
     ]
    },
    {
     "name": "stdout",
     "output_type": "stream",
     "text": [
      "Adjusting learning rate of group 0 to 1.0000e-01.\n",
      "train loss: 1.814, accuracy: 0.383\n",
      "test loss: 1.613, accuracy: 0.487\n",
      "time: 13.36366\n",
      "EPOCH: 34\n"
     ]
    },
    {
     "name": "stderr",
     "output_type": "stream",
     "text": [
      "100%|█████████████████████████████████████████████| 1/1 [00:13<00:00, 13.20s/it]\n"
     ]
    },
    {
     "name": "stdout",
     "output_type": "stream",
     "text": [
      "Adjusting learning rate of group 0 to 1.0000e-01.\n",
      "train loss: 1.757, accuracy: 0.488\n",
      "test loss: 1.586, accuracy: 0.475\n",
      "time: 13.19705\n",
      "EPOCH: 35\n"
     ]
    },
    {
     "name": "stderr",
     "output_type": "stream",
     "text": [
      "100%|█████████████████████████████████████████████| 1/1 [00:13<00:00, 13.44s/it]\n"
     ]
    },
    {
     "name": "stdout",
     "output_type": "stream",
     "text": [
      "Adjusting learning rate of group 0 to 1.0000e-01.\n",
      "train loss: 1.873, accuracy: 0.477\n",
      "test loss: 1.592, accuracy: 0.509\n",
      "time: 13.44069\n",
      "EPOCH: 36\n"
     ]
    },
    {
     "name": "stderr",
     "output_type": "stream",
     "text": [
      "100%|█████████████████████████████████████████████| 1/1 [00:13<00:00, 13.29s/it]\n"
     ]
    },
    {
     "name": "stdout",
     "output_type": "stream",
     "text": [
      "Adjusting learning rate of group 0 to 1.0000e-01.\n",
      "train loss: 1.750, accuracy: 0.509\n",
      "test loss: 1.556, accuracy: 0.514\n",
      "time: 13.28965\n",
      "EPOCH: 37\n"
     ]
    },
    {
     "name": "stderr",
     "output_type": "stream",
     "text": [
      "100%|█████████████████████████████████████████████| 1/1 [00:13<00:00, 13.19s/it]\n"
     ]
    },
    {
     "name": "stdout",
     "output_type": "stream",
     "text": [
      "Adjusting learning rate of group 0 to 1.0000e-01.\n",
      "train loss: 1.725, accuracy: 0.514\n",
      "test loss: 1.533, accuracy: 0.552\n",
      "time: 13.18713\n",
      "EPOCH: 38\n"
     ]
    },
    {
     "name": "stderr",
     "output_type": "stream",
     "text": [
      "100%|█████████████████████████████████████████████| 1/1 [00:13<00:00, 13.20s/it]\n"
     ]
    },
    {
     "name": "stdout",
     "output_type": "stream",
     "text": [
      "Adjusting learning rate of group 0 to 1.0000e-01.\n",
      "train loss: 1.800, accuracy: 0.552\n",
      "test loss: 1.565, accuracy: 0.477\n",
      "time: 13.19832\n",
      "EPOCH: 39\n"
     ]
    },
    {
     "name": "stderr",
     "output_type": "stream",
     "text": [
      "100%|█████████████████████████████████████████████| 1/1 [00:13<00:00, 13.17s/it]\n"
     ]
    },
    {
     "name": "stdout",
     "output_type": "stream",
     "text": [
      "Adjusting learning rate of group 0 to 1.0000e-01.\n",
      "train loss: 1.763, accuracy: 0.484\n",
      "test loss: 1.471, accuracy: 0.563\n",
      "time: 13.16874\n",
      "EPOCH: 40\n"
     ]
    },
    {
     "name": "stderr",
     "output_type": "stream",
     "text": [
      "100%|█████████████████████████████████████████████| 1/1 [00:13<00:00, 13.15s/it]\n"
     ]
    },
    {
     "name": "stdout",
     "output_type": "stream",
     "text": [
      "Adjusting learning rate of group 0 to 1.0000e-01.\n",
      "train loss: 1.649, accuracy: 0.564\n",
      "test loss: 1.448, accuracy: 0.560\n",
      "time: 13.14711\n",
      "EPOCH: 41\n"
     ]
    },
    {
     "name": "stderr",
     "output_type": "stream",
     "text": [
      "100%|█████████████████████████████████████████████| 1/1 [00:13<00:00, 13.15s/it]\n"
     ]
    },
    {
     "name": "stdout",
     "output_type": "stream",
     "text": [
      "Adjusting learning rate of group 0 to 1.0000e-01.\n",
      "train loss: 1.688, accuracy: 0.560\n",
      "test loss: 1.448, accuracy: 0.597\n",
      "time: 13.15350\n",
      "EPOCH: 42\n"
     ]
    },
    {
     "name": "stderr",
     "output_type": "stream",
     "text": [
      "100%|█████████████████████████████████████████████| 1/1 [00:13<00:00, 13.20s/it]\n"
     ]
    },
    {
     "name": "stdout",
     "output_type": "stream",
     "text": [
      "Adjusting learning rate of group 0 to 1.0000e-01.\n",
      "train loss: 1.680, accuracy: 0.604\n",
      "test loss: 1.408, accuracy: 0.569\n",
      "time: 13.19686\n",
      "EPOCH: 43\n"
     ]
    },
    {
     "name": "stderr",
     "output_type": "stream",
     "text": [
      "100%|█████████████████████████████████████████████| 1/1 [00:13<00:00, 13.16s/it]\n"
     ]
    },
    {
     "name": "stdout",
     "output_type": "stream",
     "text": [
      "Adjusting learning rate of group 0 to 1.0000e-01.\n",
      "train loss: 1.562, accuracy: 0.576\n",
      "test loss: 1.413, accuracy: 0.443\n",
      "time: 13.15640\n",
      "EPOCH: 44\n"
     ]
    },
    {
     "name": "stderr",
     "output_type": "stream",
     "text": [
      "100%|█████████████████████████████████████████████| 1/1 [00:13<00:00, 13.15s/it]\n"
     ]
    },
    {
     "name": "stdout",
     "output_type": "stream",
     "text": [
      "Adjusting learning rate of group 0 to 1.0000e-01.\n",
      "train loss: 1.713, accuracy: 0.446\n",
      "test loss: 1.409, accuracy: 0.492\n",
      "time: 13.15370\n",
      "EPOCH: 45\n"
     ]
    },
    {
     "name": "stderr",
     "output_type": "stream",
     "text": [
      "100%|█████████████████████████████████████████████| 1/1 [00:13<00:00, 13.15s/it]\n"
     ]
    },
    {
     "name": "stdout",
     "output_type": "stream",
     "text": [
      "Adjusting learning rate of group 0 to 1.0000e-01.\n",
      "train loss: 1.566, accuracy: 0.495\n",
      "test loss: 1.340, accuracy: 0.531\n",
      "time: 13.14800\n",
      "EPOCH: 46\n"
     ]
    },
    {
     "name": "stderr",
     "output_type": "stream",
     "text": [
      "100%|█████████████████████████████████████████████| 1/1 [00:13<00:00, 13.14s/it]\n"
     ]
    },
    {
     "name": "stdout",
     "output_type": "stream",
     "text": [
      "Adjusting learning rate of group 0 to 1.0000e-01.\n",
      "train loss: 1.488, accuracy: 0.531\n",
      "test loss: 1.342, accuracy: 0.501\n",
      "time: 13.14145\n",
      "EPOCH: 47\n"
     ]
    },
    {
     "name": "stderr",
     "output_type": "stream",
     "text": [
      "100%|█████████████████████████████████████████████| 1/1 [00:13<00:00, 13.17s/it]\n"
     ]
    },
    {
     "name": "stdout",
     "output_type": "stream",
     "text": [
      "Adjusting learning rate of group 0 to 1.0000e-01.\n",
      "train loss: 1.501, accuracy: 0.499\n",
      "test loss: 1.343, accuracy: 0.518\n",
      "time: 13.17551\n",
      "EPOCH: 48\n"
     ]
    },
    {
     "name": "stderr",
     "output_type": "stream",
     "text": [
      "100%|█████████████████████████████████████████████| 1/1 [00:13<00:00, 13.17s/it]\n"
     ]
    },
    {
     "name": "stdout",
     "output_type": "stream",
     "text": [
      "Adjusting learning rate of group 0 to 1.0000e-01.\n",
      "train loss: 1.816, accuracy: 0.530\n",
      "test loss: 1.451, accuracy: 0.483\n",
      "time: 13.16608\n",
      "EPOCH: 49\n"
     ]
    },
    {
     "name": "stderr",
     "output_type": "stream",
     "text": [
      "100%|█████████████████████████████████████████████| 1/1 [00:13<00:00, 13.14s/it]\n"
     ]
    },
    {
     "name": "stdout",
     "output_type": "stream",
     "text": [
      "Adjusting learning rate of group 0 to 5.0000e-02.\n",
      "train loss: 1.581, accuracy: 0.483\n",
      "test loss: 1.379, accuracy: 0.506\n",
      "time: 13.14149\n",
      "EPOCH: 50\n"
     ]
    },
    {
     "name": "stderr",
     "output_type": "stream",
     "text": [
      "100%|█████████████████████████████████████████████| 1/1 [00:13<00:00, 13.16s/it]\n"
     ]
    },
    {
     "name": "stdout",
     "output_type": "stream",
     "text": [
      "Adjusting learning rate of group 0 to 5.0000e-02.\n",
      "train loss: 1.531, accuracy: 0.506\n",
      "test loss: 1.336, accuracy: 0.506\n",
      "time: 13.16023\n",
      "EPOCH: 51\n"
     ]
    },
    {
     "name": "stderr",
     "output_type": "stream",
     "text": [
      "100%|█████████████████████████████████████████████| 1/1 [00:13<00:00, 13.15s/it]\n"
     ]
    },
    {
     "name": "stdout",
     "output_type": "stream",
     "text": [
      "Adjusting learning rate of group 0 to 5.0000e-02.\n",
      "train loss: 1.391, accuracy: 0.509\n",
      "test loss: 1.333, accuracy: 0.514\n",
      "time: 13.14818\n",
      "EPOCH: 52\n"
     ]
    },
    {
     "name": "stderr",
     "output_type": "stream",
     "text": [
      "100%|█████████████████████████████████████████████| 1/1 [00:13<00:00, 13.16s/it]\n"
     ]
    },
    {
     "name": "stdout",
     "output_type": "stream",
     "text": [
      "Adjusting learning rate of group 0 to 5.0000e-02.\n",
      "train loss: 1.803, accuracy: 0.517\n",
      "test loss: 1.336, accuracy: 0.490\n",
      "time: 13.15613\n",
      "EPOCH: 53\n"
     ]
    },
    {
     "name": "stderr",
     "output_type": "stream",
     "text": [
      "100%|█████████████████████████████████████████████| 1/1 [00:13<00:00, 13.16s/it]\n"
     ]
    },
    {
     "name": "stdout",
     "output_type": "stream",
     "text": [
      "Adjusting learning rate of group 0 to 5.0000e-02.\n",
      "train loss: 1.549, accuracy: 0.494\n",
      "test loss: 1.325, accuracy: 0.504\n",
      "time: 13.16057\n",
      "EPOCH: 54\n"
     ]
    },
    {
     "name": "stderr",
     "output_type": "stream",
     "text": [
      "100%|█████████████████████████████████████████████| 1/1 [00:13<00:00, 13.21s/it]\n"
     ]
    },
    {
     "name": "stdout",
     "output_type": "stream",
     "text": [
      "Adjusting learning rate of group 0 to 5.0000e-02.\n",
      "train loss: 1.410, accuracy: 0.512\n",
      "test loss: 1.303, accuracy: 0.526\n",
      "time: 13.20756\n",
      "EPOCH: 55\n"
     ]
    },
    {
     "name": "stderr",
     "output_type": "stream",
     "text": [
      "100%|█████████████████████████████████████████████| 1/1 [00:13<00:00, 13.33s/it]\n"
     ]
    },
    {
     "name": "stdout",
     "output_type": "stream",
     "text": [
      "Adjusting learning rate of group 0 to 5.0000e-02.\n",
      "train loss: 1.443, accuracy: 0.533\n",
      "test loss: 1.281, accuracy: 0.569\n",
      "time: 13.32738\n",
      "EPOCH: 56\n"
     ]
    },
    {
     "name": "stderr",
     "output_type": "stream",
     "text": [
      "100%|█████████████████████████████████████████████| 1/1 [00:13<00:00, 13.37s/it]\n"
     ]
    },
    {
     "name": "stdout",
     "output_type": "stream",
     "text": [
      "Adjusting learning rate of group 0 to 5.0000e-02.\n",
      "train loss: 1.523, accuracy: 0.574\n",
      "test loss: 1.294, accuracy: 0.550\n",
      "time: 13.37387\n",
      "EPOCH: 57\n"
     ]
    },
    {
     "name": "stderr",
     "output_type": "stream",
     "text": [
      "100%|█████████████████████████████████████████████| 1/1 [00:13<00:00, 13.25s/it]\n"
     ]
    },
    {
     "name": "stdout",
     "output_type": "stream",
     "text": [
      "Adjusting learning rate of group 0 to 5.0000e-02.\n",
      "train loss: 1.623, accuracy: 0.555\n",
      "test loss: 1.275, accuracy: 0.557\n",
      "time: 13.25425\n",
      "EPOCH: 58\n"
     ]
    },
    {
     "name": "stderr",
     "output_type": "stream",
     "text": [
      "100%|█████████████████████████████████████████████| 1/1 [00:13<00:00, 13.29s/it]\n"
     ]
    },
    {
     "name": "stdout",
     "output_type": "stream",
     "text": [
      "Adjusting learning rate of group 0 to 5.0000e-02.\n",
      "train loss: 1.535, accuracy: 0.562\n",
      "test loss: 1.293, accuracy: 0.495\n",
      "time: 13.28791\n",
      "EPOCH: 59\n"
     ]
    },
    {
     "name": "stderr",
     "output_type": "stream",
     "text": [
      "100%|█████████████████████████████████████████████| 1/1 [00:13<00:00, 13.15s/it]\n"
     ]
    },
    {
     "name": "stdout",
     "output_type": "stream",
     "text": [
      "Adjusting learning rate of group 0 to 5.0000e-02.\n",
      "train loss: 1.469, accuracy: 0.499\n",
      "test loss: 1.267, accuracy: 0.509\n",
      "time: 13.15406\n",
      "EPOCH: 60\n"
     ]
    },
    {
     "name": "stderr",
     "output_type": "stream",
     "text": [
      "100%|█████████████████████████████████████████████| 1/1 [00:13<00:00, 13.15s/it]\n"
     ]
    },
    {
     "name": "stdout",
     "output_type": "stream",
     "text": [
      "Adjusting learning rate of group 0 to 5.0000e-02.\n",
      "train loss: 1.600, accuracy: 0.507\n",
      "test loss: 1.272, accuracy: 0.522\n",
      "time: 13.14612\n",
      "EPOCH: 61\n"
     ]
    },
    {
     "name": "stderr",
     "output_type": "stream",
     "text": [
      "100%|█████████████████████████████████████████████| 1/1 [00:13<00:00, 13.15s/it]\n"
     ]
    },
    {
     "name": "stdout",
     "output_type": "stream",
     "text": [
      "Adjusting learning rate of group 0 to 5.0000e-02.\n",
      "train loss: 1.440, accuracy: 0.523\n",
      "test loss: 1.254, accuracy: 0.527\n",
      "time: 13.14978\n",
      "EPOCH: 62\n"
     ]
    },
    {
     "name": "stderr",
     "output_type": "stream",
     "text": [
      "100%|█████████████████████████████████████████████| 1/1 [00:13<00:00, 13.16s/it]\n"
     ]
    },
    {
     "name": "stdout",
     "output_type": "stream",
     "text": [
      "Adjusting learning rate of group 0 to 5.0000e-02.\n",
      "train loss: 1.468, accuracy: 0.526\n",
      "test loss: 1.253, accuracy: 0.520\n",
      "time: 13.16543\n",
      "EPOCH: 63\n"
     ]
    },
    {
     "name": "stderr",
     "output_type": "stream",
     "text": [
      "100%|█████████████████████████████████████████████| 1/1 [00:13<00:00, 13.15s/it]\n"
     ]
    },
    {
     "name": "stdout",
     "output_type": "stream",
     "text": [
      "Adjusting learning rate of group 0 to 5.0000e-02.\n",
      "train loss: 1.537, accuracy: 0.522\n",
      "test loss: 1.243, accuracy: 0.525\n",
      "time: 13.14763\n",
      "EPOCH: 64\n"
     ]
    },
    {
     "name": "stderr",
     "output_type": "stream",
     "text": [
      "100%|█████████████████████████████████████████████| 1/1 [00:13<00:00, 13.19s/it]\n"
     ]
    },
    {
     "name": "stdout",
     "output_type": "stream",
     "text": [
      "Adjusting learning rate of group 0 to 5.0000e-02.\n",
      "train loss: 1.405, accuracy: 0.528\n",
      "test loss: 1.240, accuracy: 0.548\n",
      "time: 13.19368\n",
      "EPOCH: 65\n"
     ]
    },
    {
     "name": "stderr",
     "output_type": "stream",
     "text": [
      "100%|█████████████████████████████████████████████| 1/1 [00:13<00:00, 13.18s/it]\n"
     ]
    },
    {
     "name": "stdout",
     "output_type": "stream",
     "text": [
      "Adjusting learning rate of group 0 to 5.0000e-02.\n",
      "train loss: 1.474, accuracy: 0.548\n",
      "test loss: 1.250, accuracy: 0.521\n",
      "time: 13.18086\n",
      "EPOCH: 66\n"
     ]
    },
    {
     "name": "stderr",
     "output_type": "stream",
     "text": [
      "100%|█████████████████████████████████████████████| 1/1 [00:13<00:00, 13.15s/it]\n"
     ]
    },
    {
     "name": "stdout",
     "output_type": "stream",
     "text": [
      "Adjusting learning rate of group 0 to 5.0000e-02.\n",
      "train loss: 1.441, accuracy: 0.524\n",
      "test loss: 1.250, accuracy: 0.505\n",
      "time: 13.15145\n",
      "EPOCH: 67\n"
     ]
    },
    {
     "name": "stderr",
     "output_type": "stream",
     "text": [
      "100%|█████████████████████████████████████████████| 1/1 [00:13<00:00, 13.18s/it]\n"
     ]
    },
    {
     "name": "stdout",
     "output_type": "stream",
     "text": [
      "Adjusting learning rate of group 0 to 5.0000e-02.\n",
      "train loss: 1.380, accuracy: 0.508\n",
      "test loss: 1.232, accuracy: 0.512\n",
      "time: 13.17864\n",
      "EPOCH: 68\n"
     ]
    },
    {
     "name": "stderr",
     "output_type": "stream",
     "text": [
      "100%|█████████████████████████████████████████████| 1/1 [00:13<00:00, 13.15s/it]\n"
     ]
    },
    {
     "name": "stdout",
     "output_type": "stream",
     "text": [
      "Adjusting learning rate of group 0 to 5.0000e-02.\n",
      "train loss: 1.507, accuracy: 0.514\n",
      "test loss: 1.228, accuracy: 0.521\n",
      "time: 13.15065\n",
      "EPOCH: 69\n"
     ]
    },
    {
     "name": "stderr",
     "output_type": "stream",
     "text": [
      "100%|█████████████████████████████████████████████| 1/1 [00:13<00:00, 13.15s/it]\n"
     ]
    },
    {
     "name": "stdout",
     "output_type": "stream",
     "text": [
      "Adjusting learning rate of group 0 to 2.5000e-02.\n",
      "train loss: 1.391, accuracy: 0.520\n",
      "test loss: 1.212, accuracy: 0.517\n",
      "time: 13.15129\n",
      "EPOCH: 70\n"
     ]
    },
    {
     "name": "stderr",
     "output_type": "stream",
     "text": [
      "100%|█████████████████████████████████████████████| 1/1 [00:13<00:00, 13.18s/it]\n"
     ]
    },
    {
     "name": "stdout",
     "output_type": "stream",
     "text": [
      "Adjusting learning rate of group 0 to 2.5000e-02.\n",
      "train loss: 1.442, accuracy: 0.519\n",
      "test loss: 1.207, accuracy: 0.522\n",
      "time: 13.17610\n",
      "EPOCH: 71\n"
     ]
    },
    {
     "name": "stderr",
     "output_type": "stream",
     "text": [
      "100%|█████████████████████████████████████████████| 1/1 [00:13<00:00, 13.17s/it]\n"
     ]
    },
    {
     "name": "stdout",
     "output_type": "stream",
     "text": [
      "Adjusting learning rate of group 0 to 2.5000e-02.\n",
      "train loss: 1.474, accuracy: 0.524\n",
      "test loss: 1.194, accuracy: 0.531\n",
      "time: 13.17534\n",
      "EPOCH: 72\n"
     ]
    },
    {
     "name": "stderr",
     "output_type": "stream",
     "text": [
      "100%|█████████████████████████████████████████████| 1/1 [00:13<00:00, 13.15s/it]\n"
     ]
    },
    {
     "name": "stdout",
     "output_type": "stream",
     "text": [
      "Adjusting learning rate of group 0 to 2.5000e-02.\n",
      "train loss: 1.301, accuracy: 0.537\n",
      "test loss: 1.190, accuracy: 0.540\n",
      "time: 13.15034\n",
      "EPOCH: 73\n"
     ]
    },
    {
     "name": "stderr",
     "output_type": "stream",
     "text": [
      "100%|█████████████████████████████████████████████| 1/1 [00:13<00:00, 13.23s/it]\n"
     ]
    },
    {
     "name": "stdout",
     "output_type": "stream",
     "text": [
      "Adjusting learning rate of group 0 to 2.5000e-02.\n",
      "train loss: 1.349, accuracy: 0.549\n",
      "test loss: 1.201, accuracy: 0.545\n",
      "time: 13.23061\n",
      "EPOCH: 74\n"
     ]
    },
    {
     "name": "stderr",
     "output_type": "stream",
     "text": [
      "100%|█████████████████████████████████████████████| 1/1 [00:13<00:00, 13.17s/it]\n"
     ]
    },
    {
     "name": "stdout",
     "output_type": "stream",
     "text": [
      "Adjusting learning rate of group 0 to 2.5000e-02.\n",
      "train loss: 1.458, accuracy: 0.553\n",
      "test loss: 1.191, accuracy: 0.563\n",
      "time: 13.17601\n",
      "EPOCH: 75\n"
     ]
    },
    {
     "name": "stderr",
     "output_type": "stream",
     "text": [
      "100%|█████████████████████████████████████████████| 1/1 [00:13<00:00, 13.17s/it]\n"
     ]
    },
    {
     "name": "stdout",
     "output_type": "stream",
     "text": [
      "Adjusting learning rate of group 0 to 2.5000e-02.\n",
      "train loss: 1.322, accuracy: 0.570\n",
      "test loss: 1.181, accuracy: 0.574\n",
      "time: 13.16775\n",
      "EPOCH: 76\n"
     ]
    },
    {
     "name": "stderr",
     "output_type": "stream",
     "text": [
      "100%|█████████████████████████████████████████████| 1/1 [00:13<00:00, 13.26s/it]\n"
     ]
    },
    {
     "name": "stdout",
     "output_type": "stream",
     "text": [
      "Adjusting learning rate of group 0 to 2.5000e-02.\n",
      "train loss: 1.406, accuracy: 0.581\n",
      "test loss: 1.176, accuracy: 0.569\n",
      "time: 13.25704\n",
      "EPOCH: 77\n"
     ]
    },
    {
     "name": "stderr",
     "output_type": "stream",
     "text": [
      "100%|█████████████████████████████████████████████| 1/1 [00:13<00:00, 13.20s/it]\n"
     ]
    },
    {
     "name": "stdout",
     "output_type": "stream",
     "text": [
      "Adjusting learning rate of group 0 to 2.5000e-02.\n",
      "train loss: 1.392, accuracy: 0.581\n",
      "test loss: 1.168, accuracy: 0.572\n",
      "time: 13.19646\n",
      "EPOCH: 78\n"
     ]
    },
    {
     "name": "stderr",
     "output_type": "stream",
     "text": [
      "100%|█████████████████████████████████████████████| 1/1 [00:13<00:00, 13.17s/it]\n"
     ]
    },
    {
     "name": "stdout",
     "output_type": "stream",
     "text": [
      "Adjusting learning rate of group 0 to 2.5000e-02.\n",
      "train loss: 1.217, accuracy: 0.581\n",
      "test loss: 1.162, accuracy: 0.575\n",
      "time: 13.16913\n",
      "EPOCH: 79\n"
     ]
    },
    {
     "name": "stderr",
     "output_type": "stream",
     "text": [
      "100%|█████████████████████████████████████████████| 1/1 [00:13<00:00, 13.14s/it]\n"
     ]
    },
    {
     "name": "stdout",
     "output_type": "stream",
     "text": [
      "Adjusting learning rate of group 0 to 2.5000e-02.\n",
      "train loss: 1.447, accuracy: 0.585\n",
      "test loss: 1.156, accuracy: 0.576\n",
      "time: 13.13934\n",
      "EPOCH: 80\n"
     ]
    },
    {
     "name": "stderr",
     "output_type": "stream",
     "text": [
      "100%|█████████████████████████████████████████████| 1/1 [00:13<00:00, 13.13s/it]\n"
     ]
    },
    {
     "name": "stdout",
     "output_type": "stream",
     "text": [
      "Adjusting learning rate of group 0 to 2.5000e-02.\n",
      "train loss: 1.326, accuracy: 0.584\n",
      "test loss: 1.148, accuracy: 0.584\n",
      "time: 13.13463\n",
      "EPOCH: 81\n"
     ]
    },
    {
     "name": "stderr",
     "output_type": "stream",
     "text": [
      "100%|█████████████████████████████████████████████| 1/1 [00:13<00:00, 13.15s/it]\n"
     ]
    },
    {
     "name": "stdout",
     "output_type": "stream",
     "text": [
      "Adjusting learning rate of group 0 to 2.5000e-02.\n",
      "train loss: 1.301, accuracy: 0.592\n",
      "test loss: 1.145, accuracy: 0.581\n",
      "time: 13.14675\n",
      "EPOCH: 82\n"
     ]
    },
    {
     "name": "stderr",
     "output_type": "stream",
     "text": [
      "100%|█████████████████████████████████████████████| 1/1 [00:13<00:00, 13.34s/it]\n"
     ]
    },
    {
     "name": "stdout",
     "output_type": "stream",
     "text": [
      "Adjusting learning rate of group 0 to 2.5000e-02.\n",
      "train loss: 1.201, accuracy: 0.587\n",
      "test loss: 1.133, accuracy: 0.581\n",
      "time: 13.34330\n",
      "EPOCH: 83\n"
     ]
    },
    {
     "name": "stderr",
     "output_type": "stream",
     "text": [
      "100%|█████████████████████████████████████████████| 1/1 [00:13<00:00, 13.19s/it]\n"
     ]
    },
    {
     "name": "stdout",
     "output_type": "stream",
     "text": [
      "Adjusting learning rate of group 0 to 2.5000e-02.\n",
      "train loss: 1.249, accuracy: 0.587\n",
      "test loss: 1.129, accuracy: 0.591\n",
      "time: 13.19157\n",
      "EPOCH: 84\n"
     ]
    },
    {
     "name": "stderr",
     "output_type": "stream",
     "text": [
      "100%|█████████████████████████████████████████████| 1/1 [00:13<00:00, 13.17s/it]\n"
     ]
    },
    {
     "name": "stdout",
     "output_type": "stream",
     "text": [
      "Adjusting learning rate of group 0 to 2.5000e-02.\n",
      "train loss: 1.295, accuracy: 0.598\n",
      "test loss: 1.126, accuracy: 0.576\n",
      "time: 13.17137\n",
      "EPOCH: 85\n"
     ]
    },
    {
     "name": "stderr",
     "output_type": "stream",
     "text": [
      "100%|█████████████████████████████████████████████| 1/1 [00:13<00:00, 13.16s/it]\n"
     ]
    },
    {
     "name": "stdout",
     "output_type": "stream",
     "text": [
      "Adjusting learning rate of group 0 to 2.5000e-02.\n",
      "train loss: 1.368, accuracy: 0.581\n",
      "test loss: 1.121, accuracy: 0.564\n",
      "time: 13.15632\n",
      "EPOCH: 86\n"
     ]
    },
    {
     "name": "stderr",
     "output_type": "stream",
     "text": [
      "100%|█████████████████████████████████████████████| 1/1 [00:13<00:00, 13.15s/it]\n"
     ]
    },
    {
     "name": "stdout",
     "output_type": "stream",
     "text": [
      "Adjusting learning rate of group 0 to 2.5000e-02.\n",
      "train loss: 1.412, accuracy: 0.566\n",
      "test loss: 1.123, accuracy: 0.546\n",
      "time: 13.15243\n",
      "EPOCH: 87\n"
     ]
    },
    {
     "name": "stderr",
     "output_type": "stream",
     "text": [
      "100%|█████████████████████████████████████████████| 1/1 [00:13<00:00, 13.28s/it]\n"
     ]
    },
    {
     "name": "stdout",
     "output_type": "stream",
     "text": [
      "Adjusting learning rate of group 0 to 2.5000e-02.\n",
      "train loss: 1.404, accuracy: 0.545\n",
      "test loss: 1.112, accuracy: 0.572\n",
      "time: 13.27837\n",
      "EPOCH: 88\n"
     ]
    },
    {
     "name": "stderr",
     "output_type": "stream",
     "text": [
      "100%|█████████████████████████████████████████████| 1/1 [00:13<00:00, 13.22s/it]\n"
     ]
    },
    {
     "name": "stdout",
     "output_type": "stream",
     "text": [
      "Adjusting learning rate of group 0 to 2.5000e-02.\n",
      "train loss: 1.407, accuracy: 0.574\n",
      "test loss: 1.118, accuracy: 0.543\n",
      "time: 13.22451\n",
      "EPOCH: 89\n"
     ]
    },
    {
     "name": "stderr",
     "output_type": "stream",
     "text": [
      "100%|█████████████████████████████████████████████| 1/1 [00:13<00:00, 13.47s/it]\n"
     ]
    },
    {
     "name": "stdout",
     "output_type": "stream",
     "text": [
      "Adjusting learning rate of group 0 to 1.2500e-02.\n",
      "train loss: 1.502, accuracy: 0.543\n",
      "test loss: 1.122, accuracy: 0.558\n",
      "time: 13.46795\n",
      "EPOCH: 90\n"
     ]
    },
    {
     "name": "stderr",
     "output_type": "stream",
     "text": [
      "100%|█████████████████████████████████████████████| 1/1 [00:13<00:00, 13.99s/it]\n"
     ]
    },
    {
     "name": "stdout",
     "output_type": "stream",
     "text": [
      "Adjusting learning rate of group 0 to 1.2500e-02.\n",
      "train loss: 1.317, accuracy: 0.560\n",
      "test loss: 1.119, accuracy: 0.559\n",
      "time: 13.99141\n",
      "EPOCH: 91\n"
     ]
    },
    {
     "name": "stderr",
     "output_type": "stream",
     "text": [
      "100%|█████████████████████████████████████████████| 1/1 [00:13<00:00, 13.23s/it]\n"
     ]
    },
    {
     "name": "stdout",
     "output_type": "stream",
     "text": [
      "Adjusting learning rate of group 0 to 1.2500e-02.\n",
      "train loss: 1.386, accuracy: 0.561\n",
      "test loss: 1.117, accuracy: 0.556\n",
      "time: 13.22676\n",
      "EPOCH: 92\n"
     ]
    },
    {
     "name": "stderr",
     "output_type": "stream",
     "text": [
      "100%|█████████████████████████████████████████████| 1/1 [00:13<00:00, 13.21s/it]\n"
     ]
    },
    {
     "name": "stdout",
     "output_type": "stream",
     "text": [
      "Adjusting learning rate of group 0 to 1.2500e-02.\n",
      "train loss: 1.226, accuracy: 0.557\n",
      "test loss: 1.115, accuracy: 0.559\n",
      "time: 13.21533\n",
      "EPOCH: 93\n"
     ]
    },
    {
     "name": "stderr",
     "output_type": "stream",
     "text": [
      "100%|█████████████████████████████████████████████| 1/1 [00:13<00:00, 13.19s/it]\n"
     ]
    },
    {
     "name": "stdout",
     "output_type": "stream",
     "text": [
      "Adjusting learning rate of group 0 to 1.2500e-02.\n",
      "train loss: 1.399, accuracy: 0.561\n",
      "test loss: 1.113, accuracy: 0.566\n",
      "time: 13.18666\n",
      "EPOCH: 94\n"
     ]
    },
    {
     "name": "stderr",
     "output_type": "stream",
     "text": [
      "100%|█████████████████████████████████████████████| 1/1 [00:13<00:00, 13.20s/it]\n"
     ]
    },
    {
     "name": "stdout",
     "output_type": "stream",
     "text": [
      "Adjusting learning rate of group 0 to 1.2500e-02.\n",
      "train loss: 1.371, accuracy: 0.567\n",
      "test loss: 1.112, accuracy: 0.560\n",
      "time: 13.20011\n",
      "EPOCH: 95\n"
     ]
    },
    {
     "name": "stderr",
     "output_type": "stream",
     "text": [
      "100%|█████████████████████████████████████████████| 1/1 [00:13<00:00, 13.19s/it]\n"
     ]
    },
    {
     "name": "stdout",
     "output_type": "stream",
     "text": [
      "Adjusting learning rate of group 0 to 1.2500e-02.\n",
      "train loss: 1.257, accuracy: 0.562\n",
      "test loss: 1.112, accuracy: 0.556\n",
      "time: 13.19124\n",
      "EPOCH: 96\n"
     ]
    },
    {
     "name": "stderr",
     "output_type": "stream",
     "text": [
      "100%|█████████████████████████████████████████████| 1/1 [00:13<00:00, 13.19s/it]\n"
     ]
    },
    {
     "name": "stdout",
     "output_type": "stream",
     "text": [
      "Adjusting learning rate of group 0 to 1.2500e-02.\n",
      "train loss: 1.345, accuracy: 0.557\n",
      "test loss: 1.111, accuracy: 0.556\n",
      "time: 13.19137\n",
      "EPOCH: 97\n"
     ]
    },
    {
     "name": "stderr",
     "output_type": "stream",
     "text": [
      "100%|█████████████████████████████████████████████| 1/1 [00:13<00:00, 13.61s/it]\n"
     ]
    },
    {
     "name": "stdout",
     "output_type": "stream",
     "text": [
      "Adjusting learning rate of group 0 to 1.2500e-02.\n",
      "train loss: 1.351, accuracy: 0.557\n",
      "test loss: 1.110, accuracy: 0.550\n",
      "time: 13.60646\n",
      "EPOCH: 98\n"
     ]
    },
    {
     "name": "stderr",
     "output_type": "stream",
     "text": [
      "100%|█████████████████████████████████████████████| 1/1 [00:13<00:00, 13.42s/it]\n"
     ]
    },
    {
     "name": "stdout",
     "output_type": "stream",
     "text": [
      "Adjusting learning rate of group 0 to 1.2500e-02.\n",
      "train loss: 1.222, accuracy: 0.552\n",
      "test loss: 1.107, accuracy: 0.559\n",
      "time: 13.41752\n",
      "EPOCH: 99\n"
     ]
    },
    {
     "name": "stderr",
     "output_type": "stream",
     "text": [
      "100%|█████████████████████████████████████████████| 1/1 [00:13<00:00, 13.21s/it]\n"
     ]
    },
    {
     "name": "stdout",
     "output_type": "stream",
     "text": [
      "Adjusting learning rate of group 0 to 1.2500e-02.\n",
      "train loss: 1.234, accuracy: 0.563\n",
      "test loss: 1.105, accuracy: 0.557\n",
      "time: 13.20923\n"
     ]
    }
   ],
   "source": [
    "model = MFNN1().to(device)\n",
    "param_xavier_init(model)\n",
    "opt = optim.SGD(model.parameters(), lr = config.lr, weight_decay = config.weight_decay, momentum = config.momentum)\n",
    "if config.noise_type == 'SAM':\n",
    "    base_optimizer = torch.optim.SGD  # define an optimizer for the \"sharpness-aware\" update\n",
    "    opt = SAM(model.parameters(), base_optimizer, lr=config.lr, momentum=config.momentum)\n",
    "loss_fn = nn.CrossEntropyLoss()\n",
    "scheduler = optim.lr_scheduler.LambdaLR(opt, lr_lambda = func, verbose=True)\n",
    "main(model, opt, loss_fn, scheduler, config)"
   ]
  },
  {
   "cell_type": "code",
   "execution_count": 110,
   "id": "ba0645a0",
   "metadata": {},
   "outputs": [
    {
     "name": "stdout",
     "output_type": "stream",
     "text": [
      "configs(noise_type='SAM', dataset='FashionMNIST', lr=0.1, bs=128, weight_decay=0.0, momentum=0.0, rho=10, epochs=100)\n"
     ]
    }
   ],
   "source": [
    "config = configs('SAM', 'FashionMNIST', 0.1, 128, rho = 10, epochs = 100)\n",
    "print(config)"
   ]
  },
  {
   "cell_type": "code",
   "execution_count": 21,
   "id": "9235eaab",
   "metadata": {},
   "outputs": [
    {
     "name": "stdout",
     "output_type": "stream",
     "text": [
      "tensor([[-0.0544,  1.0304, -0.6324,  ...,  0.6514, -1.2342,  0.9394],\n",
      "        [ 1.3391, -1.2351, -1.3524,  ..., -0.3024,  0.1952,  0.2504],\n",
      "        [-1.3203, -1.0605,  1.5325,  ..., -0.7827,  0.8425, -0.5357],\n",
      "        ...,\n",
      "        [ 0.1364, -0.4086, -2.7622,  ..., -0.2780,  0.0717, -1.1985],\n",
      "        [-1.4791,  0.8086, -0.5270,  ..., -2.1201,  0.4699, -0.3661],\n",
      "        [-0.3694,  1.2959,  0.9868,  ...,  0.5223,  0.0284, -0.3927]])\n",
      "tensor(410.3856)\n",
      "tensor([[-0.0013,  0.0251, -0.0154,  ...,  0.0159, -0.0301,  0.0229],\n",
      "        [ 0.0326, -0.0301, -0.0330,  ..., -0.0074,  0.0048,  0.0061],\n",
      "        [-0.0322, -0.0258,  0.0373,  ..., -0.0191,  0.0205, -0.0131],\n",
      "        ...,\n",
      "        [ 0.0033, -0.0100, -0.0673,  ..., -0.0068,  0.0017, -0.0292],\n",
      "        [-0.0360,  0.0197, -0.0128,  ..., -0.0517,  0.0114, -0.0089],\n",
      "        [-0.0090,  0.0316,  0.0240,  ...,  0.0127,  0.0007, -0.0096]])\n"
     ]
    }
   ],
   "source": [
    "model = MFNN()\n",
    "rho = 10\n",
    "for params in model.parameters():\n",
    "    noise = torch.normal(0, 1, params.data.shape)\n",
    "    norm = torch.norm(noise) \n",
    "    print(noise)\n",
    "    print(norm)\n",
    "    noise = rho * noise/norm\n",
    "    print(noise)\n",
    "    break\n",
    "    "
   ]
  }
 ],
 "metadata": {
  "kernelspec": {
   "display_name": "Python 3 (ipykernel)",
   "language": "python",
   "name": "python3"
  },
  "language_info": {
   "codemirror_mode": {
    "name": "ipython",
    "version": 3
   },
   "file_extension": ".py",
   "mimetype": "text/x-python",
   "name": "python",
   "nbconvert_exporter": "python",
   "pygments_lexer": "ipython3",
   "version": "3.9.12"
  }
 },
 "nbformat": 4,
 "nbformat_minor": 5
}
